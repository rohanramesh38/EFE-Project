{
 "cells": [
  {
   "cell_type": "markdown",
   "metadata": {},
   "source": [
    "# delete pages by known names"
   ]
  },
  {
   "cell_type": "code",
   "execution_count": 1,
   "metadata": {},
   "outputs": [],
   "source": [
    "import PyPDF2"
   ]
  },
  {
   "cell_type": "code",
   "execution_count": 2,
   "metadata": {},
   "outputs": [],
   "source": [
    "ms = \"../material/MS/2Q23_Report.pdf\"\n",
    "gs = \"../material/GS/2Q23_Report.pdf\"\n",
    "BoA = \"../material/BoA/2Q23_Report.pdf\"\n",
    "JPM = \"../material/JPM/2Q23_Report.pdf\"\n",
    "Sch = \"../material/Schwab/2Q23_Report.pdf\""
   ]
  },
  {
   "cell_type": "code",
   "execution_count": 15,
   "metadata": {},
   "outputs": [],
   "source": [
    "def extract_pagenum_title(report):\n",
    "    pageinfo = {}\n",
    "    with open(report, 'rb') as file:\n",
    "        pdf_reader = PyPDF2.PdfFileReader(file)\n",
    "        total_pages = pdf_reader.numPages\n",
    "        for page_number in range(total_pages):\n",
    "            page = pdf_reader.getPage(page_number)\n",
    "            text = page.extractText()\n",
    "            lines = text.split('\\n')\n",
    "            title = f\"{lines[0].strip()} - {lines[1].strip()}\"\n",
    "            pageinfo[f\"{page_number + 1}\"] = title\n",
    "    return pageinfo  \n",
    "\n",
    "def extract_pagenum_tablename(report):\n",
    "    pageinfo = {}\n",
    "\n",
    "    with open(report, 'rb') as file:\n",
    "        pdf_reader = PyPDF2.PdfFileReader(file)\n",
    "        total_pages = pdf_reader.numPages\n",
    "        for page_number in range(total_pages):\n",
    "            page = pdf_reader.getPage(page_number)\n",
    "            text = page.extractText()\n",
    "            table_names = extract_tablenames(text)\n",
    "            pageinfo[f\"{page_number + 1}\"] = table_names\n",
    "\n",
    "    return pageinfo\n",
    "\n",
    "def extract_tablenames(text):\n",
    "    tablename = \"\"\n",
    "    lines = text.split('\\n')\n",
    "    for line in lines:\n",
    "        if \"unaudited\" in line:\n",
    "            tablename = f\"{tablename} - {line}\"\n",
    "    return tablename"
   ]
  },
  {
   "cell_type": "code",
   "execution_count": 16,
   "metadata": {},
   "outputs": [
    {
     "name": "stderr",
     "output_type": "stream",
     "text": [
      "Superfluous whitespace found in object header b'1' b'0'\n"
     ]
    },
    {
     "name": "stderr",
     "output_type": "stream",
     "text": [
      "Superfluous whitespace found in object header b'2' b'0'\n",
      "Superfluous whitespace found in object header b'3' b'0'\n",
      "Superfluous whitespace found in object header b'23' b'0'\n",
      "Superfluous whitespace found in object header b'27' b'0'\n",
      "Superfluous whitespace found in object header b'30' b'0'\n",
      "Superfluous whitespace found in object header b'33' b'0'\n",
      "Superfluous whitespace found in object header b'37' b'0'\n",
      "Superfluous whitespace found in object header b'41' b'0'\n",
      "Superfluous whitespace found in object header b'45' b'0'\n",
      "Superfluous whitespace found in object header b'48' b'0'\n",
      "Superfluous whitespace found in object header b'51' b'0'\n",
      "Superfluous whitespace found in object header b'54' b'0'\n",
      "Superfluous whitespace found in object header b'57' b'0'\n",
      "Superfluous whitespace found in object header b'69' b'0'\n",
      "Superfluous whitespace found in object header b'81' b'0'\n",
      "Superfluous whitespace found in object header b'84' b'0'\n",
      "Superfluous whitespace found in object header b'87' b'0'\n",
      "Superfluous whitespace found in object header b'90' b'0'\n",
      "Superfluous whitespace found in object header b'93' b'0'\n",
      "Superfluous whitespace found in object header b'22' b'0'\n",
      "Superfluous whitespace found in object header b'11' b'0'\n",
      "Superfluous whitespace found in object header b'10' b'0'\n",
      "Superfluous whitespace found in object header b'9' b'0'\n",
      "Superfluous whitespace found in object header b'19' b'0'\n",
      "Superfluous whitespace found in object header b'18' b'0'\n",
      "Superfluous whitespace found in object header b'17' b'0'\n",
      "Superfluous whitespace found in object header b'21' b'0'\n",
      "Superfluous whitespace found in object header b'20' b'0'\n",
      "Superfluous whitespace found in object header b'26' b'0'\n",
      "Superfluous whitespace found in object header b'25' b'0'\n",
      "Superfluous whitespace found in object header b'24' b'0'\n",
      "Superfluous whitespace found in object header b'29' b'0'\n",
      "Superfluous whitespace found in object header b'28' b'0'\n",
      "Superfluous whitespace found in object header b'32' b'0'\n",
      "Superfluous whitespace found in object header b'31' b'0'\n",
      "Superfluous whitespace found in object header b'36' b'0'\n",
      "Superfluous whitespace found in object header b'35' b'0'\n",
      "Superfluous whitespace found in object header b'34' b'0'\n",
      "Superfluous whitespace found in object header b'40' b'0'\n",
      "Superfluous whitespace found in object header b'39' b'0'\n",
      "Superfluous whitespace found in object header b'38' b'0'\n",
      "Superfluous whitespace found in object header b'44' b'0'\n",
      "Superfluous whitespace found in object header b'43' b'0'\n",
      "Superfluous whitespace found in object header b'42' b'0'\n",
      "Superfluous whitespace found in object header b'47' b'0'\n",
      "Superfluous whitespace found in object header b'46' b'0'\n",
      "Superfluous whitespace found in object header b'50' b'0'\n",
      "Superfluous whitespace found in object header b'49' b'0'\n",
      "Superfluous whitespace found in object header b'53' b'0'\n",
      "Superfluous whitespace found in object header b'52' b'0'\n",
      "Superfluous whitespace found in object header b'56' b'0'\n",
      "Superfluous whitespace found in object header b'55' b'0'\n",
      "Superfluous whitespace found in object header b'68' b'0'\n",
      "Superfluous whitespace found in object header b'65' b'0'\n",
      "Superfluous whitespace found in object header b'64' b'0'\n",
      "Superfluous whitespace found in object header b'63' b'0'\n",
      "Superfluous whitespace found in object header b'67' b'0'\n",
      "Superfluous whitespace found in object header b'66' b'0'\n",
      "Superfluous whitespace found in object header b'80' b'0'\n",
      "Superfluous whitespace found in object header b'78' b'0'\n",
      "Superfluous whitespace found in object header b'77' b'0'\n",
      "Superfluous whitespace found in object header b'76' b'0'\n",
      "Superfluous whitespace found in object header b'79' b'0'\n",
      "Superfluous whitespace found in object header b'70' b'0'\n",
      "Superfluous whitespace found in object header b'83' b'0'\n",
      "Superfluous whitespace found in object header b'82' b'0'\n",
      "Superfluous whitespace found in object header b'86' b'0'\n",
      "Superfluous whitespace found in object header b'85' b'0'\n",
      "Superfluous whitespace found in object header b'89' b'0'\n",
      "Superfluous whitespace found in object header b'88' b'0'\n",
      "Superfluous whitespace found in object header b'92' b'0'\n",
      "Superfluous whitespace found in object header b'91' b'0'\n",
      "Superfluous whitespace found in object header b'96' b'0'\n",
      "Superfluous whitespace found in object header b'95' b'0'\n",
      "Superfluous whitespace found in object header b'94' b'0'\n",
      "Xref table not zero-indexed. ID numbers for objects will be corrected.\n"
     ]
    }
   ],
   "source": [
    "ms_info = extract_pagenum_title(ms)     # Wealth Management\n",
    "BoA_info = extract_pagenum_title(BoA)   # Global Wealth  & Investment Management Key Indicators/ \n",
    "                                        # Net Interest Income and Noninterest Income/ \n",
    "                                        # Consumer Banking Key Indicators\n",
    "                                        # Global Wealth  & Investment Management Segment Results\n",
    "JP_info = extract_pagenum_title(JPM)    # ASSET & WEALTH MANAGEMENT\n",
    "Sch_info = extract_pagenum_title(Sch)   # Growth in Client Assets and Accounts\n",
    "                                        # Asset Management and Administration Fees Information\n",
    "gs_info = extract_pagenum_tablename(gs) # Assets Under Supervision\n",
    "                                        # Segment Net Revenues"
   ]
  },
  {
   "cell_type": "code",
   "execution_count": 17,
   "metadata": {},
   "outputs": [],
   "source": [
    "MS_need = [\"Wealth Management\"]\n",
    "BoA_need = [\"Global Wealth  & Investment Management Key Indicators\", \"Net Interest Income and Noninterest Income\", \\\n",
    "            \"Consumer Banking Key Indicators\", \"Global Wealth  & Investment Management Segment Results\"]\n",
    "JP_need = [\"ASSET & WEALTH MANAGEMENT\"]\n",
    "Schw_need = [\"Growth in Client Assets and Accounts\", \"Asset Management and Administration Fees Information\"]\n",
    "gs_need = [\"Assets Under Supervision\", \"Segment Net Revenues\"]"
   ]
  },
  {
   "cell_type": "code",
   "execution_count": 18,
   "metadata": {},
   "outputs": [
    {
     "data": {
      "text/plain": [
       "{'1': '',\n",
       " '2': '',\n",
       " '3': '',\n",
       " '4': '',\n",
       " '5': '',\n",
       " '6': '',\n",
       " '7': '',\n",
       " '8': ' - Segment Net Revenues (unaudited) - Geographic Net Revenues (unaudited)3',\n",
       " '9': ' - Segment Net Revenues (unaudited) - Geographic Net Revenues (unaudited)3',\n",
       " '10': ' - Consolidated Statements of Earnings (unaudited)',\n",
       " '11': ' - Consolidated Statements of Earnings (unaudited)',\n",
       " '12': ' - Condensed Consolidated Balance Sheets (unaudited)4 - Capital Ratios and Supplementary Leverage Ratio (unaudited)3,4 - Average Daily VaR (unaudited)3,4',\n",
       " '13': ' - Assets Under Supervision (unaudited)3,4',\n",
       " '14': ''}"
      ]
     },
     "execution_count": 18,
     "metadata": {},
     "output_type": "execute_result"
    }
   ],
   "source": [
    "gs_info"
   ]
  },
  {
   "cell_type": "code",
   "execution_count": 33,
   "metadata": {},
   "outputs": [
    {
     "name": "stderr",
     "output_type": "stream",
     "text": [
      "Superfluous whitespace found in object header b'1' b'0'\n",
      "Superfluous whitespace found in object header b'2' b'0'\n",
      "Superfluous whitespace found in object header b'3' b'0'\n",
      "Superfluous whitespace found in object header b'23' b'0'\n",
      "Superfluous whitespace found in object header b'27' b'0'\n",
      "Superfluous whitespace found in object header b'30' b'0'\n",
      "Superfluous whitespace found in object header b'33' b'0'\n",
      "Superfluous whitespace found in object header b'37' b'0'\n",
      "Superfluous whitespace found in object header b'41' b'0'\n",
      "Superfluous whitespace found in object header b'45' b'0'\n",
      "Superfluous whitespace found in object header b'48' b'0'\n",
      "Superfluous whitespace found in object header b'51' b'0'\n",
      "Superfluous whitespace found in object header b'54' b'0'\n",
      "Superfluous whitespace found in object header b'57' b'0'\n",
      "Superfluous whitespace found in object header b'69' b'0'\n",
      "Superfluous whitespace found in object header b'81' b'0'\n",
      "Superfluous whitespace found in object header b'84' b'0'\n",
      "Superfluous whitespace found in object header b'87' b'0'\n",
      "Superfluous whitespace found in object header b'90' b'0'\n",
      "Superfluous whitespace found in object header b'93' b'0'\n",
      "Superfluous whitespace found in object header b'47' b'0'\n",
      "Superfluous whitespace found in object header b'42' b'0'\n",
      "Superfluous whitespace found in object header b'19' b'0'\n",
      "Superfluous whitespace found in object header b'18' b'0'\n",
      "Superfluous whitespace found in object header b'17' b'0'\n",
      "Superfluous whitespace found in object header b'15' b'0'\n",
      "Superfluous whitespace found in object header b'16' b'0'\n",
      "Superfluous whitespace found in object header b'14' b'0'\n",
      "Superfluous whitespace found in object header b'13' b'0'\n",
      "Superfluous whitespace found in object header b'12' b'0'\n",
      "Superfluous whitespace found in object header b'11' b'0'\n",
      "Superfluous whitespace found in object header b'10' b'0'\n",
      "Superfluous whitespace found in object header b'9' b'0'\n",
      "Superfluous whitespace found in object header b'7' b'0'\n",
      "Superfluous whitespace found in object header b'8' b'0'\n",
      "Superfluous whitespace found in object header b'6' b'0'\n",
      "Superfluous whitespace found in object header b'5' b'0'\n",
      "Superfluous whitespace found in object header b'4' b'0'\n",
      "Superfluous whitespace found in object header b'46' b'0'\n",
      "Superfluous whitespace found in object header b'44' b'0'\n",
      "Superfluous whitespace found in object header b'43' b'0'\n",
      "Xref table not zero-indexed. ID numbers for objects will be corrected.\n"
     ]
    }
   ],
   "source": [
    "def need_page(need, page_info):\n",
    "    num = []\n",
    "    for i in need:\n",
    "        for key, value in page_info.items():\n",
    "            if i in value:\n",
    "                num.append(int(key))\n",
    "    num.sort()\n",
    "    return num\n",
    "\n",
    "def deletepage(report, need, pageinfo, name):\n",
    "    needpages_num = need_page(need, pageinfo)\n",
    "    with open(report, 'rb') as file:\n",
    "        reader = PyPDF2.PdfFileReader(file)\n",
    "        writer = PyPDF2.PdfFileWriter()\n",
    "\n",
    "        for page_num in needpages_num:\n",
    "            if 0 <= page_num -1 < reader.numPages:\n",
    "                writer.addPage(reader.getPage(page_num-1))\n",
    "\n",
    "        with open(f\"./{name}.pdf\", 'wb') as output_file:\n",
    "            writer.write(output_file)\n",
    "deletepage(ms, MS_need, ms_info, \"ms_test\")\n",
    "deletepage(gs, gs_need, gs_info, \"gs_test\")\n",
    "deletepage(BoA, BoA_need, BoA_info, \"boa_test\")\n",
    "deletepage(JPM, JP_need, JP_info, \"jp_test\")\n",
    "deletepage(Sch, Schw_need, Sch_info, \"sch_test\")"
   ]
  }
 ],
 "metadata": {
  "kernelspec": {
   "display_name": "base",
   "language": "python",
   "name": "python3"
  },
  "language_info": {
   "codemirror_mode": {
    "name": "ipython",
    "version": 3
   },
   "file_extension": ".py",
   "mimetype": "text/x-python",
   "name": "python",
   "nbconvert_exporter": "python",
   "pygments_lexer": "ipython3",
   "version": "3.9.16"
  }
 },
 "nbformat": 4,
 "nbformat_minor": 2
}
